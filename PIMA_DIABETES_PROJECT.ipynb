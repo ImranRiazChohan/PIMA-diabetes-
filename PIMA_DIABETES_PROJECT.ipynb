{
  "nbformat": 4,
  "nbformat_minor": 0,
  "metadata": {
    "kernelspec": {
      "display_name": "Python 3",
      "language": "python",
      "name": "python3"
    },
    "language_info": {
      "codemirror_mode": {
        "name": "ipython",
        "version": 3
      },
      "file_extension": ".py",
      "mimetype": "text/x-python",
      "name": "python",
      "nbconvert_exporter": "python",
      "pygments_lexer": "ipython3",
      "version": "3.7.3"
    },
    "colab": {
      "name": "PIMA DIABETES PROJECT.ipynb",
      "provenance": [],
      "include_colab_link": true
    }
  },
  "cells": [
    {
      "cell_type": "markdown",
      "metadata": {
        "id": "view-in-github",
        "colab_type": "text"
      },
      "source": [
        "<a href=\"https://colab.research.google.com/github/ImranRiazChohan/PIMA-diabetes-/blob/master/PIMA_DIABETES_PROJECT.ipynb\" target=\"_parent\"><img src=\"https://colab.research.google.com/assets/colab-badge.svg\" alt=\"Open In Colab\"/></a>"
      ]
    },
    {
      "cell_type": "markdown",
      "metadata": {
        "id": "x2UYovcD19fU",
        "colab_type": "text"
      },
      "source": [
        "# PIMA DIABETES PROJECT"
      ]
    },
    {
      "cell_type": "markdown",
      "metadata": {
        "id": "bSdCMUatzmP4",
        "colab_type": "text"
      },
      "source": [
        "## import some usefull libraries"
      ]
    },
    {
      "cell_type": "code",
      "metadata": {
        "id": "13J87LOspCax",
        "colab_type": "code",
        "colab": {}
      },
      "source": [
        "import keras\n",
        "from keras import models\n",
        "from keras import layers\n",
        "import numpy as np\n",
        "import pandas as pd\n",
        "import matplotlib.pyplot as plt\n",
        "from keras import optimizers\n",
        "from pandas import  DataFrame,Series\n",
        "from sklearn.model_selection import train_test_split"
      ],
      "execution_count": 0,
      "outputs": []
    },
    {
      "cell_type": "markdown",
      "metadata": {
        "id": "SCVcTV06zulB",
        "colab_type": "text"
      },
      "source": [
        "## upload data using Google.Colab"
      ]
    },
    {
      "cell_type": "code",
      "metadata": {
        "id": "W8PbzvAzp7R0",
        "colab_type": "code",
        "colab": {
          "resources": {
            "http://localhost:8080/nbextensions/google.colab/files.js": {
              "data": "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",
              "ok": true,
              "headers": [
                [
                  "content-type",
                  "application/javascript"
                ]
              ],
              "status": 200,
              "status_text": ""
            }
          },
          "base_uri": "https://localhost:8080/",
          "height": 75
        },
        "outputId": "41095760-0c7b-41d6-a596-f9602502ca33"
      },
      "source": [
        "from google.colab import files\n",
        "uploaded = files.upload()"
      ],
      "execution_count": 66,
      "outputs": [
        {
          "output_type": "display_data",
          "data": {
            "text/html": [
              "\n",
              "     <input type=\"file\" id=\"files-2fb1282d-cf44-4563-89da-c2fb2bd3b5f7\" name=\"files[]\" multiple disabled />\n",
              "     <output id=\"result-2fb1282d-cf44-4563-89da-c2fb2bd3b5f7\">\n",
              "      Upload widget is only available when the cell has been executed in the\n",
              "      current browser session. Please rerun this cell to enable.\n",
              "      </output>\n",
              "      <script src=\"/nbextensions/google.colab/files.js\"></script> "
            ],
            "text/plain": [
              "<IPython.core.display.HTML object>"
            ]
          },
          "metadata": {
            "tags": []
          }
        },
        {
          "output_type": "stream",
          "text": [
            "Saving diabetes.csv to diabetes (1).csv\n"
          ],
          "name": "stdout"
        }
      ]
    },
    {
      "cell_type": "markdown",
      "metadata": {
        "id": "t4j2YrrSz_s4",
        "colab_type": "text"
      },
      "source": [
        "## read data "
      ]
    },
    {
      "cell_type": "code",
      "metadata": {
        "id": "bNdMW9qppCdM",
        "colab_type": "code",
        "colab": {}
      },
      "source": [
        "diabetes_data=pd.read_csv(\"diabetes.csv\",delimiter=\",\")"
      ],
      "execution_count": 0,
      "outputs": []
    },
    {
      "cell_type": "markdown",
      "metadata": {
        "id": "d43suUnnz_5K",
        "colab_type": "text"
      },
      "source": [
        "## Data divide into two parts(input_data , Output_data)"
      ]
    },
    {
      "cell_type": "code",
      "metadata": {
        "id": "pXN0Y5sJpCdh",
        "colab_type": "code",
        "colab": {}
      },
      "source": [
        "X=diabetes_data.iloc[:,0:8]\n",
        "Y=diabetes_data.iloc[:,8]"
      ],
      "execution_count": 0,
      "outputs": []
    },
    {
      "cell_type": "markdown",
      "metadata": {
        "id": "THxbDzMX0ACC",
        "colab_type": "text"
      },
      "source": [
        "## Split data int train and test data"
      ]
    },
    {
      "cell_type": "code",
      "metadata": {
        "id": "9UHi0gGmpCdr",
        "colab_type": "code",
        "colab": {}
      },
      "source": [
        "X_train, X_test, Y_train, Y_test = train_test_split(X, Y)"
      ],
      "execution_count": 0,
      "outputs": []
    },
    {
      "cell_type": "markdown",
      "metadata": {
        "id": "RtFT7QUv0AGM",
        "colab_type": "text"
      },
      "source": [
        "## Define Model"
      ]
    },
    {
      "cell_type": "code",
      "metadata": {
        "id": "NXrtE-85pCd5",
        "colab_type": "code",
        "colab": {}
      },
      "source": [
        "def diabetes_model():\n",
        "    model=models.Sequential()\n",
        "    model.add(layers.Dense(12,activation='relu',input_shape=(8,)))\n",
        "    model.add(layers.Dense(8,activation='relu'))\n",
        "    model.add(layers.Dense(1,activation=\"sigmoid\"))\n",
        "    model.compile(optimizer=\"Adam\",loss=\"binary_crossentropy\",metrics=[\"accuracy\"])\n",
        "    return model\n"
      ],
      "execution_count": 0,
      "outputs": []
    },
    {
      "cell_type": "markdown",
      "metadata": {
        "id": "nIxhKVgi0AJK",
        "colab_type": "text"
      },
      "source": [
        "## Validation Data"
      ]
    },
    {
      "cell_type": "code",
      "metadata": {
        "id": "djnVblA7rdB8",
        "colab_type": "code",
        "colab": {}
      },
      "source": [
        "X_val=X_train[:700]\n",
        "Y_val=Y_train[:700]"
      ],
      "execution_count": 0,
      "outputs": []
    },
    {
      "cell_type": "markdown",
      "metadata": {
        "id": "_cmTGNKp0AMZ",
        "colab_type": "text"
      },
      "source": [
        "## Train Model"
      ]
    },
    {
      "cell_type": "code",
      "metadata": {
        "id": "_iJk21wmpCeB",
        "colab_type": "code",
        "colab": {
          "base_uri": "https://localhost:8080/",
          "height": 1000
        },
        "outputId": "e0b7eb4d-3496-401a-d3c2-58f642a3812f"
      },
      "source": [
        "diabetes_model=diabetes_model()\n",
        "history=diabetes_model.fit(X_train,Y_train,epochs=150,batch_size=10,validation_data=(X_val,Y_val))"
      ],
      "execution_count": 72,
      "outputs": [
        {
          "output_type": "stream",
          "text": [
            "Train on 576 samples, validate on 576 samples\n",
            "Epoch 1/150\n",
            "576/576 [==============================] - 1s 1ms/step - loss: 5.5505 - acc: 0.6458 - val_loss: 5.1515 - val_acc: 0.6406\n",
            "Epoch 2/150\n",
            "576/576 [==============================] - 0s 195us/step - loss: 4.9879 - acc: 0.6372 - val_loss: 4.5481 - val_acc: 0.6215\n",
            "Epoch 3/150\n",
            "576/576 [==============================] - 0s 179us/step - loss: 4.1978 - acc: 0.6181 - val_loss: 3.8340 - val_acc: 0.5903\n",
            "Epoch 4/150\n",
            "576/576 [==============================] - 0s 181us/step - loss: 2.1994 - acc: 0.5278 - val_loss: 1.8109 - val_acc: 0.4531\n",
            "Epoch 5/150\n",
            "576/576 [==============================] - 0s 182us/step - loss: 1.3326 - acc: 0.5365 - val_loss: 1.1488 - val_acc: 0.5764\n",
            "Epoch 6/150\n",
            "576/576 [==============================] - 0s 191us/step - loss: 1.1138 - acc: 0.6059 - val_loss: 1.0386 - val_acc: 0.5660\n",
            "Epoch 7/150\n",
            "576/576 [==============================] - 0s 187us/step - loss: 1.0251 - acc: 0.5885 - val_loss: 0.9322 - val_acc: 0.6076\n",
            "Epoch 8/150\n",
            "576/576 [==============================] - 0s 182us/step - loss: 0.9405 - acc: 0.6285 - val_loss: 0.9718 - val_acc: 0.5903\n",
            "Epoch 9/150\n",
            "576/576 [==============================] - 0s 198us/step - loss: 0.9979 - acc: 0.6042 - val_loss: 0.8421 - val_acc: 0.6458\n",
            "Epoch 10/150\n",
            "576/576 [==============================] - 0s 187us/step - loss: 0.8672 - acc: 0.6476 - val_loss: 0.8759 - val_acc: 0.6233\n",
            "Epoch 11/150\n",
            "576/576 [==============================] - 0s 180us/step - loss: 0.8218 - acc: 0.6302 - val_loss: 0.8985 - val_acc: 0.6580\n",
            "Epoch 12/150\n",
            "576/576 [==============================] - 0s 194us/step - loss: 0.8341 - acc: 0.6458 - val_loss: 0.7755 - val_acc: 0.6458\n",
            "Epoch 13/150\n",
            "576/576 [==============================] - 0s 187us/step - loss: 0.7909 - acc: 0.6319 - val_loss: 0.7203 - val_acc: 0.6632\n",
            "Epoch 14/150\n",
            "576/576 [==============================] - 0s 187us/step - loss: 0.7944 - acc: 0.6545 - val_loss: 0.9236 - val_acc: 0.6771\n",
            "Epoch 15/150\n",
            "576/576 [==============================] - 0s 194us/step - loss: 0.7609 - acc: 0.6528 - val_loss: 0.7360 - val_acc: 0.6667\n",
            "Epoch 16/150\n",
            "576/576 [==============================] - 0s 183us/step - loss: 0.7738 - acc: 0.6476 - val_loss: 0.7041 - val_acc: 0.6632\n",
            "Epoch 17/150\n",
            "576/576 [==============================] - 0s 187us/step - loss: 0.7126 - acc: 0.6667 - val_loss: 0.6560 - val_acc: 0.6823\n",
            "Epoch 18/150\n",
            "576/576 [==============================] - 0s 200us/step - loss: 0.6788 - acc: 0.6771 - val_loss: 0.6519 - val_acc: 0.6823\n",
            "Epoch 19/150\n",
            "576/576 [==============================] - 0s 186us/step - loss: 0.6746 - acc: 0.6858 - val_loss: 0.6468 - val_acc: 0.6892\n",
            "Epoch 20/150\n",
            "576/576 [==============================] - 0s 185us/step - loss: 0.6594 - acc: 0.6875 - val_loss: 0.6755 - val_acc: 0.6875\n",
            "Epoch 21/150\n",
            "576/576 [==============================] - 0s 188us/step - loss: 0.6818 - acc: 0.6736 - val_loss: 0.6593 - val_acc: 0.6944\n",
            "Epoch 22/150\n",
            "576/576 [==============================] - 0s 190us/step - loss: 0.6724 - acc: 0.6806 - val_loss: 0.6132 - val_acc: 0.6944\n",
            "Epoch 23/150\n",
            "576/576 [==============================] - 0s 194us/step - loss: 0.6290 - acc: 0.6858 - val_loss: 0.6103 - val_acc: 0.7049\n",
            "Epoch 24/150\n",
            "576/576 [==============================] - 0s 199us/step - loss: 0.6536 - acc: 0.6910 - val_loss: 0.6214 - val_acc: 0.7031\n",
            "Epoch 25/150\n",
            "576/576 [==============================] - 0s 191us/step - loss: 0.6482 - acc: 0.6493 - val_loss: 0.6003 - val_acc: 0.7031\n",
            "Epoch 26/150\n",
            "576/576 [==============================] - 0s 189us/step - loss: 0.6485 - acc: 0.6788 - val_loss: 0.5905 - val_acc: 0.7101\n",
            "Epoch 27/150\n",
            "576/576 [==============================] - 0s 189us/step - loss: 0.6313 - acc: 0.6944 - val_loss: 0.5842 - val_acc: 0.7066\n",
            "Epoch 28/150\n",
            "576/576 [==============================] - 0s 181us/step - loss: 0.6231 - acc: 0.6892 - val_loss: 0.5880 - val_acc: 0.7135\n",
            "Epoch 29/150\n",
            "576/576 [==============================] - 0s 190us/step - loss: 0.6235 - acc: 0.6892 - val_loss: 0.6165 - val_acc: 0.7205\n",
            "Epoch 30/150\n",
            "576/576 [==============================] - 0s 186us/step - loss: 0.6417 - acc: 0.6771 - val_loss: 0.5809 - val_acc: 0.7222\n",
            "Epoch 31/150\n",
            "576/576 [==============================] - 0s 188us/step - loss: 0.5959 - acc: 0.7101 - val_loss: 0.5845 - val_acc: 0.7135\n",
            "Epoch 32/150\n",
            "576/576 [==============================] - 0s 190us/step - loss: 0.6072 - acc: 0.7153 - val_loss: 0.6066 - val_acc: 0.7101\n",
            "Epoch 33/150\n",
            "576/576 [==============================] - 0s 203us/step - loss: 0.6329 - acc: 0.6997 - val_loss: 0.5854 - val_acc: 0.7049\n",
            "Epoch 34/150\n",
            "576/576 [==============================] - 0s 190us/step - loss: 0.5623 - acc: 0.7292 - val_loss: 0.5919 - val_acc: 0.6875\n",
            "Epoch 35/150\n",
            "576/576 [==============================] - 0s 183us/step - loss: 0.6459 - acc: 0.6858 - val_loss: 0.6213 - val_acc: 0.7014\n",
            "Epoch 36/150\n",
            "576/576 [==============================] - 0s 190us/step - loss: 0.6253 - acc: 0.6997 - val_loss: 0.6429 - val_acc: 0.7135\n",
            "Epoch 37/150\n",
            "576/576 [==============================] - 0s 191us/step - loss: 0.5745 - acc: 0.7118 - val_loss: 0.5524 - val_acc: 0.7292\n",
            "Epoch 38/150\n",
            "576/576 [==============================] - 0s 191us/step - loss: 0.5843 - acc: 0.7083 - val_loss: 0.5627 - val_acc: 0.7188\n",
            "Epoch 39/150\n",
            "576/576 [==============================] - 0s 184us/step - loss: 0.6036 - acc: 0.7118 - val_loss: 0.5433 - val_acc: 0.7378\n",
            "Epoch 40/150\n",
            "576/576 [==============================] - 0s 187us/step - loss: 0.5798 - acc: 0.7153 - val_loss: 0.5437 - val_acc: 0.7344\n",
            "Epoch 41/150\n",
            "576/576 [==============================] - 0s 189us/step - loss: 0.5572 - acc: 0.7326 - val_loss: 0.5688 - val_acc: 0.7257\n",
            "Epoch 42/150\n",
            "576/576 [==============================] - 0s 195us/step - loss: 0.5746 - acc: 0.7431 - val_loss: 0.5353 - val_acc: 0.7361\n",
            "Epoch 43/150\n",
            "576/576 [==============================] - 0s 211us/step - loss: 0.5762 - acc: 0.7188 - val_loss: 0.5326 - val_acc: 0.7396\n",
            "Epoch 44/150\n",
            "576/576 [==============================] - 0s 191us/step - loss: 0.5693 - acc: 0.7222 - val_loss: 0.5418 - val_acc: 0.7257\n",
            "Epoch 45/150\n",
            "576/576 [==============================] - 0s 187us/step - loss: 0.5600 - acc: 0.7153 - val_loss: 0.5949 - val_acc: 0.7153\n",
            "Epoch 46/150\n",
            "576/576 [==============================] - 0s 192us/step - loss: 0.5534 - acc: 0.7326 - val_loss: 0.5953 - val_acc: 0.6997\n",
            "Epoch 47/150\n",
            "576/576 [==============================] - 0s 187us/step - loss: 0.5710 - acc: 0.7014 - val_loss: 0.5402 - val_acc: 0.7396\n",
            "Epoch 48/150\n",
            "576/576 [==============================] - 0s 189us/step - loss: 0.5588 - acc: 0.7396 - val_loss: 0.5325 - val_acc: 0.7535\n",
            "Epoch 49/150\n",
            "576/576 [==============================] - 0s 194us/step - loss: 0.5541 - acc: 0.7361 - val_loss: 0.5313 - val_acc: 0.7448\n",
            "Epoch 50/150\n",
            "576/576 [==============================] - 0s 189us/step - loss: 0.5496 - acc: 0.7292 - val_loss: 0.5748 - val_acc: 0.7326\n",
            "Epoch 51/150\n",
            "576/576 [==============================] - 0s 196us/step - loss: 0.5888 - acc: 0.7257 - val_loss: 0.5549 - val_acc: 0.7205\n",
            "Epoch 52/150\n",
            "576/576 [==============================] - 0s 185us/step - loss: 0.5878 - acc: 0.7361 - val_loss: 0.6558 - val_acc: 0.7101\n",
            "Epoch 53/150\n",
            "576/576 [==============================] - 0s 183us/step - loss: 0.5768 - acc: 0.7170 - val_loss: 0.5175 - val_acc: 0.7483\n",
            "Epoch 54/150\n",
            "576/576 [==============================] - 0s 187us/step - loss: 0.5548 - acc: 0.7292 - val_loss: 0.5159 - val_acc: 0.7535\n",
            "Epoch 55/150\n",
            "576/576 [==============================] - 0s 187us/step - loss: 0.5334 - acc: 0.7448 - val_loss: 0.5877 - val_acc: 0.7205\n",
            "Epoch 56/150\n",
            "576/576 [==============================] - 0s 193us/step - loss: 0.5568 - acc: 0.7378 - val_loss: 0.5315 - val_acc: 0.7378\n",
            "Epoch 57/150\n",
            "576/576 [==============================] - 0s 181us/step - loss: 0.5461 - acc: 0.7309 - val_loss: 0.5143 - val_acc: 0.7535\n",
            "Epoch 58/150\n",
            "576/576 [==============================] - 0s 185us/step - loss: 0.5326 - acc: 0.7431 - val_loss: 0.5242 - val_acc: 0.7344\n",
            "Epoch 59/150\n",
            "576/576 [==============================] - 0s 189us/step - loss: 0.5377 - acc: 0.7361 - val_loss: 0.5738 - val_acc: 0.7240\n",
            "Epoch 60/150\n",
            "576/576 [==============================] - 0s 192us/step - loss: 0.5457 - acc: 0.7378 - val_loss: 0.5053 - val_acc: 0.7656\n",
            "Epoch 61/150\n",
            "576/576 [==============================] - 0s 190us/step - loss: 0.5531 - acc: 0.7344 - val_loss: 0.5716 - val_acc: 0.7274\n",
            "Epoch 62/150\n",
            "576/576 [==============================] - 0s 194us/step - loss: 0.5467 - acc: 0.7431 - val_loss: 0.5464 - val_acc: 0.7378\n",
            "Epoch 63/150\n",
            "576/576 [==============================] - 0s 195us/step - loss: 0.5342 - acc: 0.7378 - val_loss: 0.5221 - val_acc: 0.7674\n",
            "Epoch 64/150\n",
            "576/576 [==============================] - 0s 187us/step - loss: 0.5156 - acc: 0.7500 - val_loss: 0.5426 - val_acc: 0.7326\n",
            "Epoch 65/150\n",
            "576/576 [==============================] - 0s 190us/step - loss: 0.5670 - acc: 0.7135 - val_loss: 0.5454 - val_acc: 0.7274\n",
            "Epoch 66/150\n",
            "576/576 [==============================] - 0s 189us/step - loss: 0.5522 - acc: 0.7257 - val_loss: 0.5033 - val_acc: 0.7569\n",
            "Epoch 67/150\n",
            "576/576 [==============================] - 0s 192us/step - loss: 0.5171 - acc: 0.7691 - val_loss: 0.5240 - val_acc: 0.7413\n",
            "Epoch 68/150\n",
            "576/576 [==============================] - 0s 200us/step - loss: 0.5146 - acc: 0.7500 - val_loss: 0.5770 - val_acc: 0.7361\n",
            "Epoch 69/150\n",
            "576/576 [==============================] - 0s 189us/step - loss: 0.5514 - acc: 0.7361 - val_loss: 0.4955 - val_acc: 0.7622\n",
            "Epoch 70/150\n",
            "576/576 [==============================] - 0s 190us/step - loss: 0.5385 - acc: 0.7378 - val_loss: 0.5453 - val_acc: 0.7569\n",
            "Epoch 71/150\n",
            "576/576 [==============================] - 0s 192us/step - loss: 0.5392 - acc: 0.7431 - val_loss: 0.5011 - val_acc: 0.7726\n",
            "Epoch 72/150\n",
            "576/576 [==============================] - 0s 190us/step - loss: 0.5068 - acc: 0.7552 - val_loss: 0.5111 - val_acc: 0.7535\n",
            "Epoch 73/150\n",
            "576/576 [==============================] - 0s 189us/step - loss: 0.5195 - acc: 0.7604 - val_loss: 0.5164 - val_acc: 0.7344\n",
            "Epoch 74/150\n",
            "576/576 [==============================] - 0s 192us/step - loss: 0.5400 - acc: 0.7483 - val_loss: 0.5331 - val_acc: 0.7448\n",
            "Epoch 75/150\n",
            "576/576 [==============================] - 0s 181us/step - loss: 0.5733 - acc: 0.7153 - val_loss: 0.4947 - val_acc: 0.7639\n",
            "Epoch 76/150\n",
            "576/576 [==============================] - 0s 180us/step - loss: 0.5207 - acc: 0.7465 - val_loss: 0.5178 - val_acc: 0.7500\n",
            "Epoch 77/150\n",
            "576/576 [==============================] - 0s 202us/step - loss: 0.5211 - acc: 0.7396 - val_loss: 0.5755 - val_acc: 0.7274\n",
            "Epoch 78/150\n",
            "576/576 [==============================] - 0s 191us/step - loss: 0.5133 - acc: 0.7431 - val_loss: 0.5096 - val_acc: 0.7552\n",
            "Epoch 79/150\n",
            "576/576 [==============================] - 0s 196us/step - loss: 0.5129 - acc: 0.7587 - val_loss: 0.4920 - val_acc: 0.7622\n",
            "Epoch 80/150\n",
            "576/576 [==============================] - 0s 214us/step - loss: 0.5318 - acc: 0.7413 - val_loss: 0.5032 - val_acc: 0.7604\n",
            "Epoch 81/150\n",
            "576/576 [==============================] - 0s 192us/step - loss: 0.5297 - acc: 0.7483 - val_loss: 0.4881 - val_acc: 0.7674\n",
            "Epoch 82/150\n",
            "576/576 [==============================] - 0s 190us/step - loss: 0.5156 - acc: 0.7604 - val_loss: 0.4953 - val_acc: 0.7656\n",
            "Epoch 83/150\n",
            "576/576 [==============================] - 0s 198us/step - loss: 0.5119 - acc: 0.7639 - val_loss: 0.5026 - val_acc: 0.7639\n",
            "Epoch 84/150\n",
            "576/576 [==============================] - 0s 189us/step - loss: 0.5152 - acc: 0.7604 - val_loss: 0.5211 - val_acc: 0.7500\n",
            "Epoch 85/150\n",
            "576/576 [==============================] - 0s 194us/step - loss: 0.5330 - acc: 0.7396 - val_loss: 0.6095 - val_acc: 0.7083\n",
            "Epoch 86/150\n",
            "576/576 [==============================] - 0s 198us/step - loss: 0.5224 - acc: 0.7569 - val_loss: 0.5577 - val_acc: 0.7344\n",
            "Epoch 87/150\n",
            "576/576 [==============================] - 0s 192us/step - loss: 0.5184 - acc: 0.7569 - val_loss: 0.5163 - val_acc: 0.7483\n",
            "Epoch 88/150\n",
            "576/576 [==============================] - 0s 186us/step - loss: 0.5389 - acc: 0.7431 - val_loss: 0.5456 - val_acc: 0.7309\n",
            "Epoch 89/150\n",
            "576/576 [==============================] - 0s 179us/step - loss: 0.5156 - acc: 0.7465 - val_loss: 0.5027 - val_acc: 0.7639\n",
            "Epoch 90/150\n",
            "576/576 [==============================] - 0s 182us/step - loss: 0.5128 - acc: 0.7552 - val_loss: 0.5269 - val_acc: 0.7448\n",
            "Epoch 91/150\n",
            "576/576 [==============================] - 0s 191us/step - loss: 0.5019 - acc: 0.7483 - val_loss: 0.4783 - val_acc: 0.7778\n",
            "Epoch 92/150\n",
            "576/576 [==============================] - 0s 188us/step - loss: 0.5050 - acc: 0.7708 - val_loss: 0.4973 - val_acc: 0.7569\n",
            "Epoch 93/150\n",
            "576/576 [==============================] - 0s 190us/step - loss: 0.5032 - acc: 0.7604 - val_loss: 0.4881 - val_acc: 0.7726\n",
            "Epoch 94/150\n",
            "576/576 [==============================] - 0s 201us/step - loss: 0.4933 - acc: 0.7708 - val_loss: 0.4946 - val_acc: 0.7691\n",
            "Epoch 95/150\n",
            "576/576 [==============================] - 0s 186us/step - loss: 0.5454 - acc: 0.7396 - val_loss: 0.5232 - val_acc: 0.7535\n",
            "Epoch 96/150\n",
            "576/576 [==============================] - 0s 194us/step - loss: 0.5272 - acc: 0.7448 - val_loss: 0.4768 - val_acc: 0.7778\n",
            "Epoch 97/150\n",
            "576/576 [==============================] - 0s 186us/step - loss: 0.5780 - acc: 0.7326 - val_loss: 0.5179 - val_acc: 0.7396\n",
            "Epoch 98/150\n",
            "576/576 [==============================] - 0s 195us/step - loss: 0.5145 - acc: 0.7535 - val_loss: 0.4769 - val_acc: 0.7726\n",
            "Epoch 99/150\n",
            "576/576 [==============================] - 0s 190us/step - loss: 0.5033 - acc: 0.7622 - val_loss: 0.4732 - val_acc: 0.7882\n",
            "Epoch 100/150\n",
            "576/576 [==============================] - 0s 187us/step - loss: 0.5137 - acc: 0.7448 - val_loss: 0.4809 - val_acc: 0.7691\n",
            "Epoch 101/150\n",
            "576/576 [==============================] - 0s 186us/step - loss: 0.5228 - acc: 0.7552 - val_loss: 0.5265 - val_acc: 0.7431\n",
            "Epoch 102/150\n",
            "576/576 [==============================] - 0s 187us/step - loss: 0.4875 - acc: 0.7882 - val_loss: 0.5267 - val_acc: 0.7569\n",
            "Epoch 103/150\n",
            "576/576 [==============================] - 0s 188us/step - loss: 0.5007 - acc: 0.7587 - val_loss: 0.5538 - val_acc: 0.7205\n",
            "Epoch 104/150\n",
            "576/576 [==============================] - 0s 195us/step - loss: 0.5179 - acc: 0.7604 - val_loss: 0.5302 - val_acc: 0.7500\n",
            "Epoch 105/150\n",
            "576/576 [==============================] - 0s 187us/step - loss: 0.5750 - acc: 0.7240 - val_loss: 0.5652 - val_acc: 0.7188\n",
            "Epoch 106/150\n",
            "576/576 [==============================] - 0s 189us/step - loss: 0.5351 - acc: 0.7378 - val_loss: 0.4876 - val_acc: 0.7708\n",
            "Epoch 107/150\n",
            "576/576 [==============================] - 0s 191us/step - loss: 0.5175 - acc: 0.7604 - val_loss: 0.4762 - val_acc: 0.7812\n",
            "Epoch 108/150\n",
            "576/576 [==============================] - 0s 191us/step - loss: 0.4916 - acc: 0.7726 - val_loss: 0.4737 - val_acc: 0.7760\n",
            "Epoch 109/150\n",
            "576/576 [==============================] - 0s 181us/step - loss: 0.5006 - acc: 0.7656 - val_loss: 0.4804 - val_acc: 0.7760\n",
            "Epoch 110/150\n",
            "576/576 [==============================] - 0s 182us/step - loss: 0.5097 - acc: 0.7569 - val_loss: 0.4757 - val_acc: 0.7778\n",
            "Epoch 111/150\n",
            "576/576 [==============================] - 0s 200us/step - loss: 0.4982 - acc: 0.7656 - val_loss: 0.4696 - val_acc: 0.7830\n",
            "Epoch 112/150\n",
            "576/576 [==============================] - 0s 191us/step - loss: 0.4993 - acc: 0.7674 - val_loss: 0.5168 - val_acc: 0.7396\n",
            "Epoch 113/150\n",
            "576/576 [==============================] - 0s 188us/step - loss: 0.4917 - acc: 0.7708 - val_loss: 0.4721 - val_acc: 0.7865\n",
            "Epoch 114/150\n",
            "576/576 [==============================] - 0s 188us/step - loss: 0.4911 - acc: 0.7708 - val_loss: 0.4855 - val_acc: 0.7743\n",
            "Epoch 115/150\n",
            "576/576 [==============================] - 0s 193us/step - loss: 0.4936 - acc: 0.7552 - val_loss: 0.4746 - val_acc: 0.7778\n",
            "Epoch 116/150\n",
            "576/576 [==============================] - 0s 186us/step - loss: 0.4850 - acc: 0.7639 - val_loss: 0.5058 - val_acc: 0.7569\n",
            "Epoch 117/150\n",
            "576/576 [==============================] - 0s 179us/step - loss: 0.5258 - acc: 0.7448 - val_loss: 0.5083 - val_acc: 0.7726\n",
            "Epoch 118/150\n",
            "576/576 [==============================] - 0s 183us/step - loss: 0.4880 - acc: 0.7726 - val_loss: 0.4753 - val_acc: 0.7812\n",
            "Epoch 119/150\n",
            "576/576 [==============================] - 0s 186us/step - loss: 0.4987 - acc: 0.7656 - val_loss: 0.4676 - val_acc: 0.7813\n",
            "Epoch 120/150\n",
            "576/576 [==============================] - 0s 192us/step - loss: 0.4990 - acc: 0.7778 - val_loss: 0.5293 - val_acc: 0.7413\n",
            "Epoch 121/150\n",
            "576/576 [==============================] - 0s 187us/step - loss: 0.5081 - acc: 0.7622 - val_loss: 0.4946 - val_acc: 0.7552\n",
            "Epoch 122/150\n",
            "576/576 [==============================] - 0s 183us/step - loss: 0.4883 - acc: 0.7587 - val_loss: 0.4716 - val_acc: 0.7743\n",
            "Epoch 123/150\n",
            "576/576 [==============================] - 0s 191us/step - loss: 0.4765 - acc: 0.7691 - val_loss: 0.4688 - val_acc: 0.7917\n",
            "Epoch 124/150\n",
            "576/576 [==============================] - 0s 184us/step - loss: 0.4778 - acc: 0.7743 - val_loss: 0.4763 - val_acc: 0.7847\n",
            "Epoch 125/150\n",
            "576/576 [==============================] - 0s 193us/step - loss: 0.4864 - acc: 0.7691 - val_loss: 0.4777 - val_acc: 0.7813\n",
            "Epoch 126/150\n",
            "576/576 [==============================] - 0s 201us/step - loss: 0.4861 - acc: 0.7656 - val_loss: 0.4798 - val_acc: 0.7691\n",
            "Epoch 127/150\n",
            "576/576 [==============================] - 0s 198us/step - loss: 0.5132 - acc: 0.7431 - val_loss: 0.4718 - val_acc: 0.7795\n",
            "Epoch 128/150\n",
            "576/576 [==============================] - 0s 199us/step - loss: 0.4857 - acc: 0.7726 - val_loss: 0.4778 - val_acc: 0.7743\n",
            "Epoch 129/150\n",
            "576/576 [==============================] - 0s 215us/step - loss: 0.5004 - acc: 0.7500 - val_loss: 0.4868 - val_acc: 0.7726\n",
            "Epoch 130/150\n",
            "576/576 [==============================] - 0s 209us/step - loss: 0.5258 - acc: 0.7569 - val_loss: 0.4733 - val_acc: 0.7847\n",
            "Epoch 131/150\n",
            "576/576 [==============================] - 0s 197us/step - loss: 0.4787 - acc: 0.7691 - val_loss: 0.4914 - val_acc: 0.7708\n",
            "Epoch 132/150\n",
            "576/576 [==============================] - 0s 198us/step - loss: 0.4902 - acc: 0.7708 - val_loss: 0.4979 - val_acc: 0.7500\n",
            "Epoch 133/150\n",
            "576/576 [==============================] - 0s 194us/step - loss: 0.4815 - acc: 0.7726 - val_loss: 0.4647 - val_acc: 0.7882\n",
            "Epoch 134/150\n",
            "576/576 [==============================] - 0s 194us/step - loss: 0.4980 - acc: 0.7535 - val_loss: 0.4622 - val_acc: 0.7812\n",
            "Epoch 135/150\n",
            "576/576 [==============================] - 0s 197us/step - loss: 0.4861 - acc: 0.7726 - val_loss: 0.4629 - val_acc: 0.7917\n",
            "Epoch 136/150\n",
            "576/576 [==============================] - 0s 197us/step - loss: 0.4832 - acc: 0.7743 - val_loss: 0.4768 - val_acc: 0.7674\n",
            "Epoch 137/150\n",
            "576/576 [==============================] - 0s 201us/step - loss: 0.5013 - acc: 0.7569 - val_loss: 0.5000 - val_acc: 0.7500\n",
            "Epoch 138/150\n",
            "576/576 [==============================] - 0s 200us/step - loss: 0.4971 - acc: 0.7691 - val_loss: 0.5814 - val_acc: 0.7170\n",
            "Epoch 139/150\n",
            "576/576 [==============================] - 0s 195us/step - loss: 0.5020 - acc: 0.7691 - val_loss: 0.5068 - val_acc: 0.7465\n",
            "Epoch 140/150\n",
            "576/576 [==============================] - 0s 200us/step - loss: 0.5151 - acc: 0.7517 - val_loss: 0.5140 - val_acc: 0.7517\n",
            "Epoch 141/150\n",
            "576/576 [==============================] - 0s 198us/step - loss: 0.5164 - acc: 0.7569 - val_loss: 0.5129 - val_acc: 0.7587\n",
            "Epoch 142/150\n",
            "576/576 [==============================] - 0s 198us/step - loss: 0.5193 - acc: 0.7622 - val_loss: 0.5239 - val_acc: 0.7431\n",
            "Epoch 143/150\n",
            "576/576 [==============================] - 0s 206us/step - loss: 0.5005 - acc: 0.7847 - val_loss: 0.4671 - val_acc: 0.7812\n",
            "Epoch 144/150\n",
            "576/576 [==============================] - 0s 199us/step - loss: 0.4688 - acc: 0.7951 - val_loss: 0.4657 - val_acc: 0.7882\n",
            "Epoch 145/150\n",
            "576/576 [==============================] - 0s 199us/step - loss: 0.4713 - acc: 0.7795 - val_loss: 0.4646 - val_acc: 0.7917\n",
            "Epoch 146/150\n",
            "576/576 [==============================] - 0s 194us/step - loss: 0.5110 - acc: 0.7587 - val_loss: 0.4582 - val_acc: 0.7917\n",
            "Epoch 147/150\n",
            "576/576 [==============================] - 0s 200us/step - loss: 0.4900 - acc: 0.7569 - val_loss: 0.5569 - val_acc: 0.7274\n",
            "Epoch 148/150\n",
            "576/576 [==============================] - 0s 193us/step - loss: 0.4941 - acc: 0.7708 - val_loss: 0.4635 - val_acc: 0.7917\n",
            "Epoch 149/150\n",
            "576/576 [==============================] - 0s 198us/step - loss: 0.4821 - acc: 0.7639 - val_loss: 0.5031 - val_acc: 0.7778\n",
            "Epoch 150/150\n",
            "576/576 [==============================] - 0s 195us/step - loss: 0.4765 - acc: 0.7795 - val_loss: 0.4698 - val_acc: 0.7656\n"
          ],
          "name": "stdout"
        }
      ]
    },
    {
      "cell_type": "code",
      "metadata": {
        "id": "6i9EbC_zpCeK",
        "colab_type": "code",
        "colab": {
          "base_uri": "https://localhost:8080/",
          "height": 35
        },
        "outputId": "c9559f99-cb3f-4d5a-d0cd-108e3be4d6ca"
      },
      "source": [
        "history_dict = history.history\n",
        "history_dict.keys()"
      ],
      "execution_count": 77,
      "outputs": [
        {
          "output_type": "execute_result",
          "data": {
            "text/plain": [
              "dict_keys(['val_loss', 'val_acc', 'loss', 'acc'])"
            ]
          },
          "metadata": {
            "tags": []
          },
          "execution_count": 77
        }
      ]
    },
    {
      "cell_type": "markdown",
      "metadata": {
        "id": "sNvGtiSU1L1x",
        "colab_type": "text"
      },
      "source": [
        "## Evaluate Model"
      ]
    },
    {
      "cell_type": "code",
      "metadata": {
        "id": "Ldamv9GwpCeS",
        "colab_type": "code",
        "colab": {
          "base_uri": "https://localhost:8080/",
          "height": 52
        },
        "outputId": "1f9a20e4-9b35-4395-9cc0-c6931165f4fa"
      },
      "source": [
        "Result=diabetes_model.evaluate(X_test,Y_test)\n",
        "Result"
      ],
      "execution_count": 79,
      "outputs": [
        {
          "output_type": "stream",
          "text": [
            "192/192 [==============================] - 0s 55us/step\n"
          ],
          "name": "stdout"
        },
        {
          "output_type": "execute_result",
          "data": {
            "text/plain": [
              "[0.6336386104424795, 0.7395833333333334]"
            ]
          },
          "metadata": {
            "tags": []
          },
          "execution_count": 79
        }
      ]
    },
    {
      "cell_type": "markdown",
      "metadata": {
        "id": "jpqvvtWQ1MUe",
        "colab_type": "text"
      },
      "source": [
        "## Predict Model"
      ]
    },
    {
      "cell_type": "code",
      "metadata": {
        "id": "I8c2OTnCtcIt",
        "colab_type": "code",
        "colab": {
          "base_uri": "https://localhost:8080/",
          "height": 1000
        },
        "outputId": "176739e2-368f-46f5-e285-d49195a8614d"
      },
      "source": [
        "predict=diabetes_model.predict(X_test)\n",
        "predict"
      ],
      "execution_count": 81,
      "outputs": [
        {
          "output_type": "execute_result",
          "data": {
            "text/plain": [
              "array([[0.10452002],\n",
              "       [0.13841751],\n",
              "       [0.6613668 ],\n",
              "       [0.08668503],\n",
              "       [0.14439654],\n",
              "       [1.        ],\n",
              "       [0.09504214],\n",
              "       [0.40467685],\n",
              "       [0.6464708 ],\n",
              "       [0.09467563],\n",
              "       [0.49414963],\n",
              "       [0.17670357],\n",
              "       [0.36485618],\n",
              "       [0.06860152],\n",
              "       [0.10653347],\n",
              "       [0.12839279],\n",
              "       [0.35501155],\n",
              "       [0.43536368],\n",
              "       [0.3234322 ],\n",
              "       [0.05794209],\n",
              "       [0.30801255],\n",
              "       [0.04888386],\n",
              "       [0.07586372],\n",
              "       [0.14041972],\n",
              "       [0.38878113],\n",
              "       [0.8370006 ],\n",
              "       [0.30315223],\n",
              "       [0.0942609 ],\n",
              "       [0.11966488],\n",
              "       [0.10966557],\n",
              "       [0.08779019],\n",
              "       [0.10217595],\n",
              "       [0.15457559],\n",
              "       [0.77081835],\n",
              "       [0.23083612],\n",
              "       [0.22452098],\n",
              "       [0.5750329 ],\n",
              "       [0.09278619],\n",
              "       [0.07039437],\n",
              "       [0.3248374 ],\n",
              "       [0.25291088],\n",
              "       [0.05965629],\n",
              "       [0.4323739 ],\n",
              "       [0.5070812 ],\n",
              "       [0.5651569 ],\n",
              "       [0.63471615],\n",
              "       [0.5598075 ],\n",
              "       [0.35574818],\n",
              "       [0.6743964 ],\n",
              "       [0.7532872 ],\n",
              "       [0.125519  ],\n",
              "       [0.23076734],\n",
              "       [0.7806716 ],\n",
              "       [0.59317774],\n",
              "       [0.31145424],\n",
              "       [0.05360976],\n",
              "       [0.07413253],\n",
              "       [0.21003395],\n",
              "       [0.45157394],\n",
              "       [0.14657706],\n",
              "       [0.8330716 ],\n",
              "       [0.7397721 ],\n",
              "       [0.15435392],\n",
              "       [0.30979496],\n",
              "       [0.2795173 ],\n",
              "       [0.09409642],\n",
              "       [0.16451794],\n",
              "       [0.21446192],\n",
              "       [0.09961441],\n",
              "       [0.20974168],\n",
              "       [0.6361213 ],\n",
              "       [0.0953871 ],\n",
              "       [0.2381433 ],\n",
              "       [0.38927934],\n",
              "       [0.23965505],\n",
              "       [0.5102275 ],\n",
              "       [0.69788647],\n",
              "       [0.38099253],\n",
              "       [0.2084404 ],\n",
              "       [0.3211769 ],\n",
              "       [0.76602226],\n",
              "       [0.09161144],\n",
              "       [0.54777944],\n",
              "       [0.12590209],\n",
              "       [0.37972495],\n",
              "       [0.22823405],\n",
              "       [0.24292657],\n",
              "       [0.16685441],\n",
              "       [0.25121439],\n",
              "       [0.999761  ],\n",
              "       [0.04047984],\n",
              "       [0.1744602 ],\n",
              "       [0.52018803],\n",
              "       [0.26332784],\n",
              "       [0.55168605],\n",
              "       [0.1471847 ],\n",
              "       [0.13719645],\n",
              "       [0.25561097],\n",
              "       [0.49430266],\n",
              "       [0.0884333 ],\n",
              "       [0.14843377],\n",
              "       [0.0869281 ],\n",
              "       [0.19757304],\n",
              "       [0.26376015],\n",
              "       [0.45453343],\n",
              "       [0.13417816],\n",
              "       [0.11818644],\n",
              "       [0.1209169 ],\n",
              "       [0.14602235],\n",
              "       [0.56467944],\n",
              "       [0.7190542 ],\n",
              "       [0.1914841 ],\n",
              "       [0.12722602],\n",
              "       [0.31183308],\n",
              "       [0.10325882],\n",
              "       [0.24262449],\n",
              "       [0.57871574],\n",
              "       [0.7864428 ],\n",
              "       [0.09009787],\n",
              "       [0.7281756 ],\n",
              "       [0.5363901 ],\n",
              "       [0.9993788 ],\n",
              "       [0.21043834],\n",
              "       [0.9341409 ],\n",
              "       [0.08979374],\n",
              "       [0.74425626],\n",
              "       [0.1777128 ],\n",
              "       [0.7118642 ],\n",
              "       [0.21506181],\n",
              "       [0.54451466],\n",
              "       [0.25508237],\n",
              "       [0.11067426],\n",
              "       [0.24273545],\n",
              "       [0.05098337],\n",
              "       [0.37119776],\n",
              "       [0.18730813],\n",
              "       [0.14395338],\n",
              "       [0.07309887],\n",
              "       [0.7141769 ],\n",
              "       [0.12193948],\n",
              "       [0.092208  ],\n",
              "       [0.64955246],\n",
              "       [0.17184716],\n",
              "       [0.20039394],\n",
              "       [1.        ],\n",
              "       [0.7700493 ],\n",
              "       [0.6123431 ],\n",
              "       [0.10867819],\n",
              "       [0.5771003 ],\n",
              "       [0.81963646],\n",
              "       [0.49396726],\n",
              "       [0.848609  ],\n",
              "       [0.27403456],\n",
              "       [0.10697848],\n",
              "       [0.666879  ],\n",
              "       [0.12488416],\n",
              "       [0.17742312],\n",
              "       [0.13913155],\n",
              "       [0.11488584],\n",
              "       [0.1416749 ],\n",
              "       [0.8851695 ],\n",
              "       [0.16692999],\n",
              "       [0.4997408 ],\n",
              "       [0.10006639],\n",
              "       [0.6256614 ],\n",
              "       [0.08691275],\n",
              "       [0.17502448],\n",
              "       [0.30538738],\n",
              "       [0.25376123],\n",
              "       [0.13105106],\n",
              "       [0.11385587],\n",
              "       [0.18590969],\n",
              "       [0.07526422],\n",
              "       [0.05408818],\n",
              "       [0.6040809 ],\n",
              "       [0.16463739],\n",
              "       [0.61739403],\n",
              "       [0.19682229],\n",
              "       [0.1381258 ],\n",
              "       [0.14580664],\n",
              "       [0.9997557 ],\n",
              "       [0.06801185],\n",
              "       [0.04237032],\n",
              "       [0.11265296],\n",
              "       [0.8561286 ],\n",
              "       [0.23872572],\n",
              "       [0.33839852],\n",
              "       [0.2989366 ],\n",
              "       [0.19151014],\n",
              "       [0.09659663],\n",
              "       [0.09685895],\n",
              "       [0.09695268]], dtype=float32)"
            ]
          },
          "metadata": {
            "tags": []
          },
          "execution_count": 81
        }
      ]
    },
    {
      "cell_type": "markdown",
      "metadata": {
        "id": "IcLiBak-1MgA",
        "colab_type": "text"
      },
      "source": [
        "## Ploting the Graph of Loss & Accuracy"
      ]
    },
    {
      "cell_type": "code",
      "metadata": {
        "id": "CQum8HXbvYoE",
        "colab_type": "code",
        "colab": {
          "base_uri": "https://localhost:8080/",
          "height": 295
        },
        "outputId": "3dcd797d-44ff-467a-9b1f-6226cd4127e0"
      },
      "source": [
        "loss_value=history_dict[\"loss\"]\n",
        "val_loss_value=history_dict[\"val_loss\"]\n",
        "plt.plot(diabetes_model.history.epoch,loss_value,'bo',label=\"training_loss\")\n",
        "plt.plot(diabetes_model.history.epoch,val_loss_value,'b',label=\"validation_loss\")\n",
        "plt.title(\"Training And Validation Loss\")\n",
        "plt.xlabel(\"epochs\")\n",
        "plt.ylabel(\"loss\")\n",
        "plt.legend()\n",
        "plt.show()"
      ],
      "execution_count": 82,
      "outputs": [
        {
          "output_type": "display_data",
          "data": {
            "image/png": "[encoded data removed]",
            "text/plain": [
              "<Figure size 432x288 with 1 Axes>"
            ]
          },
          "metadata": {
            "tags": []
          }
        }
      ]
    },
    {
      "cell_type": "code",
      "metadata": {
        "id": "WXWlEYPpt-1T",
        "colab_type": "code",
        "colab": {
          "base_uri": "https://localhost:8080/",
          "height": 295
        },
        "outputId": "ab63bd5f-448e-41ee-ab0a-c2c7f69152ac"
      },
      "source": [
        "acc_value=history_dict[\"acc\"]\n",
        "val_acc_value=history_dict[\"val_acc\"]\n",
        "\n",
        "plt.plot(diabetes_model.history.epoch,acc_value,'bo',label=\"training acc\")\n",
        "plt.plot(diabetes_model.history.epoch,val_acc_value,'b',label=\"validation acc\")\n",
        "plt.title(\"Training And Validation accuracy\")\n",
        "plt.xlabel(\"epochs\")\n",
        "plt.ylabel(\"Acc\")\n",
        "plt.legend()\n",
        "plt.show()"
      ],
      "execution_count": 84,
      "outputs": [
        {
          "output_type": "display_data",
          "data": {
            "image/png": "[encoded data removed]",
            "text/plain": [
              "<Figure size 432x288 with 1 Axes>"
            ]
          },
          "metadata": {
            "tags": []
          }
        }
      ]
    },
    {
      "cell_type": "code",
      "metadata": {
        "id": "d7BSbako5BLP",
        "colab_type": "code",
        "colab": {
          "base_uri": "https://localhost:8080/",
          "height": 260
        },
        "outputId": "d27596fa-e4d6-45d2-9094-2131472451d5"
      },
      "source": [
        "diabetes_model.save('diabetes_model.h5')\n",
        "from keras.models import load_model\n",
        "model=load_model(\"diabetes_model.h5\")\n",
        "model.summary()"
      ],
      "execution_count": 85,
      "outputs": [
        {
          "output_type": "stream",
          "text": [
            "Model: \"sequential_6\"\n",
            "_________________________________________________________________\n",
            "Layer (type)                 Output Shape              Param #   \n",
            "=================================================================\n",
            "dense_16 (Dense)             (None, 12)                108       \n",
            "_________________________________________________________________\n",
            "dense_17 (Dense)             (None, 8)                 104       \n",
            "_________________________________________________________________\n",
            "dense_18 (Dense)             (None, 1)                 9         \n",
            "=================================================================\n",
            "Total params: 221\n",
            "Trainable params: 221\n",
            "Non-trainable params: 0\n",
            "_________________________________________________________________\n"
          ],
          "name": "stdout"
        }
      ]
    },
    {
      "cell_type": "code",
      "metadata": {
        "id": "lPrt952C5gPC",
        "colab_type": "code",
        "colab": {}
      },
      "source": [
        ""
      ],
      "execution_count": 0,
      "outputs": []
    }
  ]
}